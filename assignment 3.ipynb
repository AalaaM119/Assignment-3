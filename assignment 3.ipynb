{
 "cells": [
  {
   "cell_type": "code",
   "execution_count": 119,
   "id": "6d9bf939-152c-45af-a987-530040436620",
   "metadata": {},
   "outputs": [
    {
     "name": "stdout",
     "output_type": "stream",
     "text": [
      "None of the elements in the array is zero\n",
      "The array have Zeros\n"
     ]
    }
   ],
   "source": [
    "#Q1\n",
    "import numpy as np\n",
    "\n",
    "def have_zeros(n):\n",
    "      if np.all(n):\n",
    "            print(\"None of the elements in the array is zero\")\n",
    "      else :\n",
    "        print('The array have Zeros')\n",
    "        \n",
    "a=[1,1,3,4,5,5]\n",
    "have_zeros(a)\n",
    "\n",
    "b=[1,0,3,4,5,5]\n",
    "have_zeros(b)"
   ]
  },
  {
   "cell_type": "code",
   "execution_count": 122,
   "id": "7179cf0b-112e-4ee6-8373-f4b0cf32fa75",
   "metadata": {
    "tags": []
   },
   "outputs": [
    {
     "name": "stdout",
     "output_type": "stream",
     "text": [
      "6 elements are non-zero\n",
      "5 elements are non-zero\n"
     ]
    }
   ],
   "source": [
    "#Q2\n",
    " \n",
    "def have_zeros(n):\n",
    "    count=0\n",
    "    for i in n:\n",
    "        if i!=0:\n",
    "             count+=1\n",
    "    res=len(n)-(len(n)-count)\n",
    "    print (res, 'elements are non-zero')\n",
    "    \n",
    "a=[1,1,3,4,5,5]\n",
    "have_zeros(a)\n",
    "\n",
    "b=[1,0,3,4,5,5]\n",
    "have_zeros(b)"
   ]
  },
  {
   "cell_type": "code",
   "execution_count": 125,
   "id": "640b058b-ae73-4f9d-be01-5972ca488730",
   "metadata": {},
   "outputs": [
    {
     "name": "stdout",
     "output_type": "stream",
     "text": [
      "[ True False  True False False]\n",
      "False\n"
     ]
    }
   ],
   "source": [
    "#Q3\n",
    "import numpy as np\n",
    "arr1=np.array([1,2,3,4,5])\n",
    "arr2=np.array([1,3,3,5,4])\n",
    "equal=np.equal(arr1,arr2)\n",
    "print(equal)\n",
    "equal_tol=np.allclose(arr1,arr2)\n",
    "print(equal_tol)\n"
   ]
  },
  {
   "cell_type": "code",
   "execution_count": 25,
   "id": "30367c57-20cd-4aa1-bc64-7b5a47457705",
   "metadata": {},
   "outputs": [
    {
     "name": "stdout",
     "output_type": "stream",
     "text": [
      "[0. 0. 0. 0. 0. 0. 0. 0. 0. 0.]\n",
      "[1. 1. 1. 1. 1. 1. 1. 1. 1. 1.]\n",
      "[5. 5. 5. 5. 5. 5. 5. 5. 5. 5.]\n"
     ]
    }
   ],
   "source": [
    "#Q4\n",
    "zeros=np.zeros(10)\n",
    "print(zeros)\n",
    "\n",
    "ones=np.ones(10)\n",
    "print(ones)\n",
    "\n",
    "fives=np.ones(10)*5\n",
    "print(fives)"
   ]
  },
  {
   "cell_type": "code",
   "execution_count": 27,
   "id": "fc410933-dfa8-423d-b37a-dd1044347a1c",
   "metadata": {},
   "outputs": [
    {
     "name": "stdout",
     "output_type": "stream",
     "text": [
      "[30 31 32 33 34 35 36 37 38 39 40 41 42 43 44 45 46 47 48 49 50 51 52 53\n",
      " 54 55 56 57 58 59 60 61 62 63 64 65 66 67 68 69 70]\n"
     ]
    }
   ],
   "source": [
    "#Q5\n",
    "a=np.arange(30,71)\n",
    "print(a)"
   ]
  },
  {
   "cell_type": "code",
   "execution_count": 34,
   "id": "1f838f9f-2b8f-47ea-9c49-ce2bebe4a74b",
   "metadata": {},
   "outputs": [
    {
     "name": "stdout",
     "output_type": "stream",
     "text": [
      "[[1. 0. 0.]\n",
      " [0. 1. 0.]\n",
      " [0. 0. 1.]]\n"
     ]
    }
   ],
   "source": [
    "#Q6\n",
    "from numpy import matlib \n",
    "\n",
    "m=matlib.eye((3))\n",
    "print(m)"
   ]
  },
  {
   "cell_type": "code",
   "execution_count": 117,
   "id": "e6968133-12ca-4b10-8671-56b60be12051",
   "metadata": {},
   "outputs": [
    {
     "name": "stdout",
     "output_type": "stream",
     "text": [
      "[0.45439845]\n"
     ]
    }
   ],
   "source": [
    "#Q7\n",
    "from numpy import random\n",
    "\n",
    "r=random.rand(1)\n",
    "print(r)\n",
    "\n"
   ]
  },
  {
   "cell_type": "code",
   "execution_count": 116,
   "id": "76d353a7-21a4-458e-aea9-94e5efee9932",
   "metadata": {},
   "outputs": [
    {
     "name": "stdout",
     "output_type": "stream",
     "text": [
      "[0.85193806 0.53096955 0.72297852 0.01025028 0.92341128 0.28881778\n",
      " 0.7314702  0.35822321 0.83899233 0.73700617 0.30252699 0.47555585\n",
      " 0.34673122 0.27352574 0.4241831 ]\n"
     ]
    }
   ],
   "source": [
    "#Q8\n",
    "arr=random.rand(15)\n",
    "print(arr)"
   ]
  },
  {
   "cell_type": "code",
   "execution_count": 44,
   "id": "0017176a-5fbb-43df-9340-915dd417917b",
   "metadata": {},
   "outputs": [
    {
     "name": "stdout",
     "output_type": "stream",
     "text": [
      "16\n",
      "17\n",
      "18\n",
      "19\n",
      "20\n",
      "21\n",
      "22\n",
      "23\n",
      "24\n",
      "25\n",
      "26\n",
      "27\n",
      "28\n",
      "29\n",
      "30\n",
      "31\n",
      "32\n",
      "33\n",
      "34\n",
      "35\n",
      "36\n",
      "37\n",
      "38\n",
      "39\n",
      "40\n",
      "41\n",
      "42\n",
      "43\n",
      "44\n",
      "45\n",
      "46\n",
      "47\n",
      "48\n",
      "49\n",
      "50\n",
      "51\n",
      "52\n",
      "53\n",
      "54\n"
     ]
    }
   ],
   "source": [
    "#Q9\n",
    "import numpy as np\n",
    "v=np.arange(15,56)\n",
    "for i in range(1,len(v)-1):\n",
    "    print(v[i])\n"
   ]
  },
  {
   "cell_type": "code",
   "execution_count": 126,
   "id": "561cd8d9-4312-402e-9c2e-b177ec3ba0ed",
   "metadata": {},
   "outputs": [
    {
     "name": "stdout",
     "output_type": "stream",
     "text": [
      "[ 2.  2.  0.  4. 10.]\n"
     ]
    }
   ],
   "source": [
    "#Q10\n",
    "import numpy as np\n",
    "from numpy import random\n",
    "v=np.empty(5)\n",
    "for i in range(len(v)):\n",
    "    v[i]=random.randint(0,11)\n",
    "print(v)\n",
    "    \n"
   ]
  },
  {
   "cell_type": "code",
   "execution_count": 83,
   "id": "edfcf6bd-60f7-491f-ae9b-f7016801fd53",
   "metadata": {},
   "outputs": [
    {
     "name": "stdout",
     "output_type": "stream",
     "text": [
      "[[1. 1. 1. 1. 1. 1. 1. 1. 1. 1.]\n",
      " [1. 0. 0. 0. 0. 0. 0. 0. 0. 1.]\n",
      " [1. 0. 0. 0. 0. 0. 0. 0. 0. 1.]\n",
      " [1. 0. 0. 0. 0. 0. 0. 0. 0. 1.]\n",
      " [1. 0. 0. 0. 0. 0. 0. 0. 0. 1.]\n",
      " [1. 0. 0. 0. 0. 0. 0. 0. 0. 1.]\n",
      " [1. 0. 0. 0. 0. 0. 0. 0. 0. 1.]\n",
      " [1. 0. 0. 0. 0. 0. 0. 0. 0. 1.]\n",
      " [1. 0. 0. 0. 0. 0. 0. 0. 0. 1.]\n",
      " [1. 1. 1. 1. 1. 1. 1. 1. 1. 1.]]\n"
     ]
    }
   ],
   "source": [
    "#Q11       borders 1, inside 0\n",
    "from numpy import matlib\n",
    "m=matlib.ones((10,10))\n",
    "m[1:-1,1:-1]=0\n",
    "print(m)\n"
   ]
  },
  {
   "cell_type": "code",
   "execution_count": 92,
   "id": "b844414c-a39d-42e6-8d37-2c913892523d",
   "metadata": {},
   "outputs": [
    {
     "name": "stdout",
     "output_type": "stream",
     "text": [
      "[[1. 0. 0. 0. 0.]\n",
      " [0. 2. 0. 0. 0.]\n",
      " [0. 0. 3. 0. 0.]\n",
      " [0. 0. 0. 4. 0.]\n",
      " [0. 0. 0. 0. 5.]]\n"
     ]
    }
   ],
   "source": [
    "#Q12        5x5 zero, main diagonal 1 2 3 4 5\n",
    "m=matlib.zeros((5,5))\n",
    "for i in range(len(m)):\n",
    "    for j in range(i,i+1):\n",
    "        m[i,j]=i+1\n",
    "print(m)        "
   ]
  },
  {
   "cell_type": "code",
   "execution_count": 103,
   "id": "ee329f44-9da5-43f8-95bb-ddc8b0f08f89",
   "metadata": {},
   "outputs": [
    {
     "data": {
      "text/plain": [
       "matrix([[0., 1., 1., 1.],\n",
       "        [1., 0., 1., 1.],\n",
       "        [1., 1., 0., 1.],\n",
       "        [1., 1., 1., 0.]])"
      ]
     },
     "execution_count": 103,
     "metadata": {},
     "output_type": "execute_result"
    }
   ],
   "source": [
    "#Q13\n",
    "import numpy as np\n",
    "from numpy import random\n",
    "\n",
    "m=matlib.ones((4,4))\n",
    "for i in range(len(m)):\n",
    "    for j in range(i,i+1):\n",
    "        m[i,j]=0\n",
    "m"
   ]
  },
  {
   "cell_type": "code",
   "execution_count": 153,
   "id": "a4064b18-6778-4f39-ae68-6b1fb710f50b",
   "metadata": {},
   "outputs": [
    {
     "name": "stdout",
     "output_type": "stream",
     "text": [
      "[1 2 3 4 5 6 7 8 9 0]\n"
     ]
    }
   ],
   "source": [
    "#Q14\n",
    "import numpy as np\n",
    "arr1=np.array([1,2,3,4,5,6,7,8,9,0])\n",
    "arr2=np.array([0,9,8,7,6,5,4,3,2,1])\n",
    "np.savez('file.npz',x=arr1,y=arr2)\n",
    "f=np.load('file.npz')\n",
    "print(f['x'])"
   ]
  },
  {
   "cell_type": "code",
   "execution_count": 74,
   "id": "53a49380-b013-43b2-87d8-c7b56f5029f0",
   "metadata": {},
   "outputs": [
    {
     "name": "stdout",
     "output_type": "stream",
     "text": [
      "[0.02037116 0.25994773 0.90058639 0.51506238 0.16011278 0.02747912\n",
      " 0.17799453 0.88365664 0.21889761 0.09491407 0.33130107 0.69460201\n",
      " 0.07485065 0.19033556 0.14763676 0.6956249  0.35537882 0.93285398\n",
      " 0.56038335 0.39942299 0.13279203 0.57189023 0.47748561 0.192469\n",
      " 0.46031957 0.7757261  0.42428029 0.79786088 0.5261501  0.69634031\n",
      " 0.28819038 0.40710958 0.38341043 0.84852603 0.11160854 0.43371547\n",
      " 0.55425572 0.77909757 0.52248641 0.26761034]\n"
     ]
    }
   ],
   "source": [
    "#Q15\n",
    "from numpy import random\n",
    "arr=random.rand(40)\n",
    "print(arr)"
   ]
  },
  {
   "cell_type": "code",
   "execution_count": 63,
   "id": "9354bf7c-3c2e-4acf-898f-9b1d9f03cb45",
   "metadata": {},
   "outputs": [
    {
     "name": "stdout",
     "output_type": "stream",
     "text": [
      "[1, 2, 3, 4, 6, 7, 8, 9, 0]\n"
     ]
    }
   ],
   "source": [
    "#Q16\n",
    "import numpy as np\n",
    "arr=np.array([1,2,3,4,5,6,7,8,9,0])\n",
    "x=5\n",
    "List=[]\n",
    "for i in arr:\n",
    "    if i>x or i<x:\n",
    "        List.append(i)\n",
    "print(List)\n",
    "        \n"
   ]
  },
  {
   "cell_type": "code",
   "execution_count": null,
   "id": "c0ee729b-ca08-4a5b-9853-972a9e7c9ad5",
   "metadata": {},
   "outputs": [],
   "source": []
  }
 ],
 "metadata": {
  "kernelspec": {
   "display_name": "Python 3 (ipykernel)",
   "language": "python",
   "name": "python3"
  },
  "language_info": {
   "codemirror_mode": {
    "name": "ipython",
    "version": 3
   },
   "file_extension": ".py",
   "mimetype": "text/x-python",
   "name": "python",
   "nbconvert_exporter": "python",
   "pygments_lexer": "ipython3",
   "version": "3.9.13"
  }
 },
 "nbformat": 4,
 "nbformat_minor": 5
}
